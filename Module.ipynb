{
 "cells": [
  {
   "cell_type": "code",
   "execution_count": null,
   "metadata": {},
   "outputs": [],
   "source": [
    "# Moduler "
   ]
  },
  {
   "cell_type": "code",
   "execution_count": null,
   "metadata": {},
   "outputs": [],
   "source": [
    "def create_submission(prediction,score):\n",
    "    now = datetime.datetime.now()\n",
    "    sub_file = 'submission_'+str(score)+'.csv'\n",
    "    #sub_file = 'prediction_training.csv'\n",
    "    print ('Creating submission: ', sub_file)\n",
    "    pd.DataFrame({'Id': test['Id'].values, 'SalePrice': prediction}).to_csv(sub_file, index=False)"
   ]
  },
  {
   "cell_type": "code",
   "execution_count": null,
   "metadata": {},
   "outputs": [],
   "source": [
    "def data_preprocess(train,test):\n",
    "    # del_outlier\n",
    "    outlier_idx = [4,11,13,20,46,66,70,167,178,185,199, 224,261, \n",
    "                    ]\n",
    "    \n",
    "    train.drop(train.index[outlier_idx],inplace=True)\n",
    "    \n",
    "    # concat data train + test\n",
    "    all_data = pd.concat((train.loc[:,'MSSubClass':'SaleCondition'],\n",
    "                          test.loc[:,'MSSubClass':'SaleCondition']))\n",
    "    \n",
    "    # delete feature\n",
    "    to_delete = ['Alley','PoolQC','Fence','MiscFeature']\n",
    "    \n",
    "    # processing delete \n",
    "    all_data = all_data.drop(to_delete,axis=1)\n",
    "\n",
    "    train[\"SalePrice\"] = np.log1p(train[\"SalePrice\"])\n",
    "    \n",
    "    #log transform skewed numeric features\n",
    "    numeric_feats = all_data.dtypes[all_data.dtypes != \"object\"].index\n",
    "    skewed_feats = train[numeric_feats].apply(lambda x: skew(x.dropna())) #compute skewness\n",
    "    skewed_feats = skewed_feats[skewed_feats > 0.9]\n",
    "    skewed_feats = skewed_feats.index\n",
    "    \n",
    "#     all_data[skewed_feats] = np.log1p(all_data[skewed_feats])\n",
    "#     all_data = pd.get_dummies(all_data)\n",
    "#     all_data = all_data.fillna(all_data.mean())\n",
    "    \n",
    "    X_train = all_data[:train.shape[0]]\n",
    "    X_test = all_data[train.shape[0]:]\n",
    "    y = train.SalePrice\n",
    "\n",
    "    return X_train,X_test,y"
   ]
  },
  {
   "cell_type": "code",
   "execution_count": null,
   "metadata": {},
   "outputs": [],
   "source": [
    "# base_model \n",
    "\n",
    "base_models = [\n",
    "        RandomForestRegressor(\n",
    "            n_jobs=1, random_state=0,\n",
    "            n_estimators=500, max_features=18, max_depth=11\n",
    "        ),\n",
    "        ExtraTreesRegressor(\n",
    "            n_jobs=1, random_state=0, \n",
    "            n_estimators=500, max_features=20\n",
    "        ),\n",
    "        GradientBoostingRegressor(\n",
    "            random_state=0, \n",
    "            n_estimators=500, max_features=10, max_depth=6,\n",
    "            learning_rate=0.05, subsample=0.8\n",
    "        ),\n",
    "        XGBRegressor(\n",
    "            seed=0,\n",
    "            n_estimators=500, max_depth=7,\n",
    "            learning_rate=0.05, subsample=0.8, colsample_bytree=0.75\n",
    "        ),\n",
    "                ]\n",
    "\n"
   ]
  }
 ],
 "metadata": {
  "kernelspec": {
   "display_name": "Python 3",
   "language": "python",
   "name": "python3"
  },
  "language_info": {
   "codemirror_mode": {
    "name": "ipython",
    "version": 3
   },
   "file_extension": ".py",
   "mimetype": "text/x-python",
   "name": "python",
   "nbconvert_exporter": "python",
   "pygments_lexer": "ipython3",
   "version": "3.5.2"
  }
 },
 "nbformat": 4,
 "nbformat_minor": 2
}
