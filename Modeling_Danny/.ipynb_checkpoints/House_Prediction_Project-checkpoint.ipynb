{
 "cells": [
  {
   "cell_type": "code",
   "execution_count": 1,
   "metadata": {
    "scrolled": false
   },
   "outputs": [
    {
     "ename": "ModuleNotFoundError",
     "evalue": "No module named 'function'",
     "output_type": "error",
     "traceback": [
      "\u001b[0;31m---------------------------------------------------------------------------\u001b[0m",
      "\u001b[0;31mModuleNotFoundError\u001b[0m                       Traceback (most recent call last)",
      "\u001b[0;32m<ipython-input-1-13ce489e01c6>\u001b[0m in \u001b[0;36m<module>\u001b[0;34m()\u001b[0m\n\u001b[0;32m----> 1\u001b[0;31m \u001b[0;32mfrom\u001b[0m \u001b[0mfunction\u001b[0m\u001b[0;34m.\u001b[0m\u001b[0mfunction\u001b[0m \u001b[0;32mimport\u001b[0m \u001b[0;34m*\u001b[0m\u001b[0;34m\u001b[0m\u001b[0m\n\u001b[0m\u001b[1;32m      2\u001b[0m \u001b[0;32mimport\u001b[0m \u001b[0mpandas\u001b[0m \u001b[0;32mas\u001b[0m \u001b[0mpd\u001b[0m\u001b[0;34m\u001b[0m\u001b[0m\n\u001b[1;32m      3\u001b[0m \u001b[0;32mimport\u001b[0m \u001b[0mnumpy\u001b[0m \u001b[0;32mas\u001b[0m \u001b[0mnp\u001b[0m\u001b[0;34m\u001b[0m\u001b[0m\n\u001b[1;32m      4\u001b[0m \u001b[0;32mimport\u001b[0m \u001b[0mmatplotlib\u001b[0m\u001b[0;34m.\u001b[0m\u001b[0mpyplot\u001b[0m \u001b[0;32mas\u001b[0m \u001b[0mplt\u001b[0m\u001b[0;34m\u001b[0m\u001b[0m\n\u001b[1;32m      5\u001b[0m \u001b[0;32mimport\u001b[0m \u001b[0mseaborn\u001b[0m \u001b[0;32mas\u001b[0m \u001b[0msns\u001b[0m\u001b[0;34m\u001b[0m\u001b[0m\n",
      "\u001b[0;31mModuleNotFoundError\u001b[0m: No module named 'function'"
     ]
    }
   ],
   "source": [
    "from function.function import *\n",
    "import pandas as pd\n",
    "import numpy as np\n",
    "import matplotlib.pyplot as plt\n",
    "import seaborn as sns\n",
    "import scipy as sp\n",
    "from scipy import stats\n",
    "import statsmodels.api as sm\n",
    "import statsmodels.formula.api as smf\n",
    "import statsmodels.stats.api as sms\n",
    "from sklearn.preprocessing import scale\n",
    "from sklearn.preprocessing import StandardScaler\n",
    "from sklearn.model_selection import train_test_split\n",
    "from sklearn.metrics import r2_score\n",
    "from sklearn.linear_model import LinearRegression\n",
    "from sklearn.model_selection import KFold\n",
    "from pandas.core import datetools\n",
    "from sklearn.model_selection import cross_val_score\n",
    "from sklearn.ensemble import RandomForestClassifier\n",
    "import warnings\n",
    "\n",
    "warnings.filterwarnings('ignore')\n",
    "get_ipython().magic('matplotlib inline')"
   ]
  },
  {
   "cell_type": "markdown",
   "metadata": {},
   "source": [
    "## 1.EDA"
   ]
  },
  {
   "cell_type": "markdown",
   "metadata": {},
   "source": [
    "### 1-1 데이터 소개"
   ]
  },
  {
   "cell_type": "code",
   "execution_count": null,
   "metadata": {
    "collapsed": true
   },
   "outputs": [],
   "source": [
    "train = pd.read_csv(\"./train.csv\")\n",
    "test = pd.read_csv(\"./test.csv\")"
   ]
  },
  {
   "cell_type": "code",
   "execution_count": null,
   "metadata": {
    "scrolled": false
   },
   "outputs": [],
   "source": [
    "print(\"Train data : \", train.shape)\n",
    "print(\"Test  data : \", test.shape)"
   ]
  },
  {
   "cell_type": "code",
   "execution_count": null,
   "metadata": {
    "scrolled": false
   },
   "outputs": [],
   "source": [
    "train.tail()"
   ]
  },
  {
   "cell_type": "code",
   "execution_count": null,
   "metadata": {
    "scrolled": true
   },
   "outputs": [],
   "source": [
    "test.tail()"
   ]
  },
  {
   "cell_type": "code",
   "execution_count": null,
   "metadata": {
    "scrolled": false
   },
   "outputs": [],
   "source": [
    "train.describe()"
   ]
  },
  {
   "cell_type": "markdown",
   "metadata": {},
   "source": [
    "Find : \n",
    "1. LotFrontage, MasVnrArea 등 일부 데이터가 missing되었음"
   ]
  },
  {
   "cell_type": "markdown",
   "metadata": {},
   "source": [
    "### 1-2 타겟 데이터 (SalePrice)"
   ]
  },
  {
   "cell_type": "code",
   "execution_count": null,
   "metadata": {},
   "outputs": [],
   "source": [
    "train[\"SalePrice\"].describe()"
   ]
  },
  {
   "cell_type": "code",
   "execution_count": null,
   "metadata": {},
   "outputs": [],
   "source": [
    "plt.figure(figsize=(17,6))\n",
    "\n",
    "plt.subplot(131)\n",
    "sns.distplot(train[\"SalePrice\"])\n",
    "\n",
    "plt.subplot(132)\n",
    "stats.probplot(train[\"SalePrice\"], plot=plt)\n",
    "\n",
    "plt.subplot(133)\n",
    "sns.boxplot(train[\"SalePrice\"])\n",
    "plt.tight_layout()\n",
    "plt.show()"
   ]
  },
  {
   "cell_type": "markdown",
   "metadata": {},
   "source": [
    "Find :  \n",
    "1. 쏠림현상이 있음.\n",
    "2. log를 사용하여 정규화 작업이 필요함\n",
    "3. 이상치 처리가 필요함"
   ]
  },
  {
   "cell_type": "markdown",
   "metadata": {},
   "source": [
    "### 1-3  Analysis the univariance"
   ]
  },
  {
   "cell_type": "code",
   "execution_count": null,
   "metadata": {
    "collapsed": true
   },
   "outputs": [],
   "source": [
    "train[\"MSSubClass\"] = train[\"MSSubClass\"].astype('str')"
   ]
  },
  {
   "cell_type": "code",
   "execution_count": null,
   "metadata": {
    "collapsed": true
   },
   "outputs": [],
   "source": [
    "categorical_columns = [\"ExterQual\", \"ExterCond\",\"BsmtQual\", \"BsmtCond\",\"BsmtFinType1\",\"BsmtFinType2\",\"HeatingQC\",\"KitchenQual\",\"FireplaceQu\",\"GarageQual\",\"GarageCond\",\"PoolQC\"]\n",
    "\n",
    "for c in categorical_columns:\n",
    "    train[c][(train[c] == \"Ex\") | (train[c] == \"GLQ\")] = 10\n",
    "    train[c][(train[c] == \"Gd\") | (train[c] == \"ALQ\")] = 8\n",
    "    train[c][(train[c] == \"TA\") | (train[c] == \"BLQ\")] = 6\n",
    "    train[c][(train[c] == \"Fa\") | (train[c] == \"Rec\")] = 4\n",
    "    train[c][(train[c] == \"Po\") | (train[c] == \"LwQ\")] = 2\n",
    "    train[c][(train[c] == \"NA\") | (train[c] == \"NaN\") |(train[c] == \"Unf\")] = 0\n",
    "    train[c] = train[c].astype('float')"
   ]
  },
  {
   "cell_type": "code",
   "execution_count": null,
   "metadata": {
    "collapsed": true
   },
   "outputs": [],
   "source": [
    "# Categoric and Numerical 변수 분리\n",
    "numerical_features = []\n",
    "categorical_features = []\n",
    "for f in train.columns:\n",
    "    if train.dtypes[f] != 'object':\n",
    "        numerical_features.append(f)\n",
    "    else:\n",
    "        categorical_features.append(f)"
   ]
  },
  {
   "cell_type": "code",
   "execution_count": null,
   "metadata": {},
   "outputs": [],
   "source": [
    "print(\"Numerical Features Qty :\", len(numerical_features),\"\\n\")\n",
    "print(\"Numerical Features : \", numerical_features, \"\\n\\n\")\n",
    "print(\"Categorical Features Qty :\", len(categorical_features),\"\\n\")\n",
    "print(\"Categorical Features :\", categorical_features)"
   ]
  },
  {
   "cell_type": "markdown",
   "metadata": {},
   "source": [
    "#### Numerical Features with SalePrice"
   ]
  },
  {
   "cell_type": "code",
   "execution_count": null,
   "metadata": {},
   "outputs": [],
   "source": [
    "fig, ax = plt.subplots(8,6, figsize = (20,20))\n",
    "\n",
    "for idx, n in enumerate(numerical_features):\n",
    "    if n == 'SalePrice':\n",
    "        continue\n",
    "    sns.regplot(x=n, y='SalePrice', data=train, ax = ax[idx//6,idx%6])\n",
    "    ax[idx//6, idx % 6].set(yticklabels=[])\n",
    "    ax[idx//6, idx % 6].set(xticklabels=[])\n",
    "    \n",
    "    continue    "
   ]
  },
  {
   "cell_type": "code",
   "execution_count": null,
   "metadata": {},
   "outputs": [],
   "source": [
    "fig, ax = plt.subplots(6,6, figsize = (20,20))\n",
    "\n",
    "for idx, n in enumerate(categorical_features):\n",
    "    \n",
    "    sns.countplot(x=n, data=train, ax = ax[idx//6, idx % 6])\n",
    "    ax[idx//6, idx % 6].set(yticklabels=[])\n",
    "    \n",
    "    continue       "
   ]
  },
  {
   "cell_type": "markdown",
   "metadata": {},
   "source": [
    "## 2. Feature Engineering"
   ]
  },
  {
   "cell_type": "markdown",
   "metadata": {},
   "source": [
    "### 2-1 SalePrice와 변수들 간의 관계 및 이상치 제거"
   ]
  },
  {
   "cell_type": "markdown",
   "metadata": {},
   "source": [
    "#### 2-1-1 GrLivArea  &  2ndFloor & Basement"
   ]
  },
  {
   "cell_type": "code",
   "execution_count": null,
   "metadata": {
    "collapsed": true
   },
   "outputs": [],
   "source": [
    "df_train = train.copy()\n",
    "df_train[\"2ndFloor\"] = \"2ndFloor\"\n",
    "df_train[\"2ndFloor\"].loc[df_train[\"2ndFlrSF\"]==0] = \"No 2ndFloor\"\n",
    "df_train[\"Basement\"] = \"Basement\"\n",
    "df_train[\"Basement\"].loc[df_train[\"TotalBsmtSF\"]==0] = \"No Basement\""
   ]
  },
  {
   "cell_type": "code",
   "execution_count": null,
   "metadata": {},
   "outputs": [],
   "source": [
    "grid = sns.jointplot(x = \"GrLivArea\", y = \"SalePrice\", data=train, kind=\"reg\")\n",
    "grid.fig.set_size_inches(15,5)\n",
    "\n",
    "plt.figure(figsize = (20,8))\n",
    "plt.subplot(211)\n",
    "g = sns.stripplot(x = \"GrLivArea\", y = 'SalePrice', hue = \"2ndFloor\", data = df_train, alpha = 0.7)\n",
    "g.set_xlabel('GrLivArea')\n",
    "g.set_ylabel('SalePrice')\n",
    "g.set_ylim(0,900000)\n",
    "g.set_xticks([])\n",
    "g.set_title('GrLiv & 2ndFloor - SalePrice')\n",
    "\n",
    "plt.subplot(212)\n",
    "b = sns.stripplot( x = \"GrLivArea\", y = 'SalePrice', hue = \"Basement\", data = df_train, alpha = 0.7)\n",
    "b.set_xlabel('GrLivArea')\n",
    "b.set_ylabel('SalePrice')\n",
    "b.set_ylim(0,900000)\n",
    "b.set_title('GrLivArea & Basement - SalePrice')\n",
    "b.set_xticks([])\n",
    "\n",
    "plt.show()"
   ]
  },
  {
   "cell_type": "code",
   "execution_count": null,
   "metadata": {
    "scrolled": true
   },
   "outputs": [],
   "source": [
    "outlier_GrLivArea = train[(train[\"GrLivArea\"] >4000)]\n",
    "outlier_GrLivArea"
   ]
  },
  {
   "cell_type": "code",
   "execution_count": null,
   "metadata": {
    "collapsed": true
   },
   "outputs": [],
   "source": [
    "train.drop(outlier_GrLivArea.index, axis=0,inplace=True)"
   ]
  },
  {
   "cell_type": "markdown",
   "metadata": {},
   "source": [
    "Find : 1. Grliv 넓이가 중간 아래부분까지는 같은 넓이의 집은 2층보다 1층집의 값 더 비싼것을 알수 있었다\n",
    "       2. 베이스먼트가 없는집은 거의 없으며, 집값에는 영향이 없는것 같다 "
   ]
  },
  {
   "cell_type": "markdown",
   "metadata": {},
   "source": [
    "#### 2-1-2 OverallQual & OverallCond"
   ]
  },
  {
   "cell_type": "code",
   "execution_count": null,
   "metadata": {},
   "outputs": [],
   "source": [
    "plt.figure(figsize=(15,8))\n",
    "\n",
    "ax1 = plt.subplot2grid((2,2), (0,0), colspan = 2)\n",
    "for qual in range(1,10+1):\n",
    "    index = train.OverallQual == qual\n",
    "    ax1.scatter(train.GrLivArea.loc[index], train.SalePrice.loc[index], data=train, label= qual, alpha =0.5)\n",
    "ax1.legend(loc = 0)\n",
    "ax1.set_title(\"GrLivArea & OverallQual - SalePrice\")\n",
    "\n",
    "ax2 = plt.subplot2grid((2,2), (1,0))\n",
    "sns.boxplot(x = \"OverallQual\", y = \"SalePrice\", data=train, ax= ax2)\n",
    "ax2.set_title('OverallQual - SalePrice')\n",
    "\n",
    "ax3 = plt.subplot2grid((2,2), (1,1))\n",
    "sns.boxplot(x = \"OverallCond\", y = \"SalePrice\", data=train, ax= ax3)\n",
    "ax3.set_title('OverallCond - SalePrice')"
   ]
  },
  {
   "cell_type": "code",
   "execution_count": null,
   "metadata": {},
   "outputs": [],
   "source": [
    "outlier_OverallQual = train[(train[\"SalePrice\"] >600000) | ((train[\"SalePrice\"] > 500000) & (train[\"OverallQual\"]==9)) | \\\n",
    "      ((train[\"SalePrice\"] > 500000) & ((train[\"OverallQual\"]==9) |(train[\"OverallQual\"]==8)))]\n",
    "outlier_OverallQual"
   ]
  },
  {
   "cell_type": "code",
   "execution_count": null,
   "metadata": {
    "collapsed": true
   },
   "outputs": [],
   "source": [
    "train.drop(outlier_OverallQual.index, axis=0, inplace=True)"
   ]
  },
  {
   "cell_type": "markdown",
   "metadata": {},
   "source": [
    "Find : 1. 품질과 집값은 선형관계를 발견할 수 있으나 overall condition과 집값은 관계가 없는것을 발견할 수 있었음"
   ]
  },
  {
   "cell_type": "markdown",
   "metadata": {},
   "source": [
    "#### 2-1-2 GarageArea & GarageCars"
   ]
  },
  {
   "cell_type": "raw",
   "metadata": {},
   "source": [
    "plt.figure(figsize=(15,6))\n",
    "\n",
    "ax1 = plt.subplot(1,2,1)\n",
    "for car in range(0,5):\n",
    "    index = train.GarageCars == car\n",
    "    ax1.scatter(x = train.GarageArea.loc[index], y = train.SalePrice.loc[index], data=train, label=car, alpha='0.5')\n",
    "\n",
    "ax1.legend()\n",
    "ax1.set_title('GarageArea - SalePrice')\n",
    "\n",
    "ax2 = plt.subplot(1,2,2)\n",
    "sns.stripplot(x = \"GarageCars\", y = \"SalePrice\", data=train,ax=ax2, jitter=True)\n",
    "ax2.set_title('GarageCars - SalePrice')\n",
    "ax2.legend()\n",
    "\n",
    "plt.show()"
   ]
  },
  {
   "cell_type": "code",
   "execution_count": null,
   "metadata": {},
   "outputs": [],
   "source": [
    "outlier_GarageArea = train[(train[\"SalePrice\"] >500000)]\n",
    "outlier_GarageArea"
   ]
  },
  {
   "cell_type": "code",
   "execution_count": null,
   "metadata": {
    "collapsed": true
   },
   "outputs": [],
   "source": [
    "train.drop(outlier_GarageArea.index, axis=0,inplace=True)"
   ]
  },
  {
   "cell_type": "markdown",
   "metadata": {},
   "source": [
    "Find :"
   ]
  },
  {
   "cell_type": "markdown",
   "metadata": {},
   "source": [
    "#### 2-1-3 Neighborhood"
   ]
  },
  {
   "cell_type": "code",
   "execution_count": null,
   "metadata": {},
   "outputs": [],
   "source": [
    "Neighbor = train.pivot_table(index=\"Neighborhood\",values=\"SalePrice\", aggfunc='mean').sort_values(by = [\"SalePrice\"], ascending = False)\n",
    "Neighbor = Neighbor.reset_index()\n",
    "\n",
    "g = sns.factorplot(x = \"Neighborhood\", y=\"SalePrice\", data=Neighbor, size =8, kind=\"bar\")\n",
    "g.set_xticklabels(rotation=45)\n",
    "g.fig.set_size_inches(15,5)\n",
    "plt.show()"
   ]
  },
  {
   "cell_type": "code",
   "execution_count": null,
   "metadata": {
    "collapsed": true
   },
   "outputs": [],
   "source": [
    "df_train = train.copy()\n",
    "\n",
    "# High_price_neighbor : 판매가 250000 이상 \n",
    "# Middle_price_neighbor : 판매가 150000 ~ 250000\n",
    "# Low_price_neighbor : 판매가 150000 이하\n",
    "def neighbor_level(x):\n",
    "    High_price_neighbor = ['NoRidge','NridgHt','StoneBr'] \n",
    "    Middle_price_neighbor = ['Timber','Somerst','Veenker','ClearCr','Crawfor','NWAmes', 'Gilbert','Blmngtn', 'SWISU','Mitchel','CollgCr']\n",
    "    Low_price_neighbor = ['IDOTRR','Blueste', 'Sawyer','NAmes', 'BrDale', 'OldTown','MeadowV', 'NPkVill','BrkSide','Edwards']\n",
    "    \n",
    "    if str(x) in High_price_neighbor:\n",
    "        return \"high\"\n",
    "    elif str(x) in Middle_price_neighbor:\n",
    "        return \"middle\"\n",
    "    elif str(x) in Low_price_neighbor:\n",
    "        return \"low\""
   ]
  },
  {
   "cell_type": "code",
   "execution_count": null,
   "metadata": {
    "collapsed": true
   },
   "outputs": [],
   "source": [
    "df_train[\"neighbor_level\"] = df_train[\"Neighborhood\"].apply(neighbor_level)\n",
    "# l = df_train.groupby(\"neighbor_level\").agg('mean')\n",
    "# l = l.reindex([\"high\",'middle',\"low\"])"
   ]
  },
  {
   "cell_type": "code",
   "execution_count": null,
   "metadata": {},
   "outputs": [],
   "source": [
    "fig, ax = plt.subplots(7,7, figsize = (20,20))\n",
    "\n",
    "for idx, n in enumerate(numerical_features):\n",
    "\n",
    "    sns.barplot(x=\"neighbor_level\", y= n, data=df_train, ax = ax[idx//7,idx%7])\n",
    "    ax[idx//7, idx % 7].set(yticklabels=[])\n",
    "    ax[idx//7, idx % 7].set(xticklabels=[\"high\",\"middle\",\"low\"])\n",
    "    ax[idx//7, idx % 7].set_xlabel(\"\")\n",
    "    ax[idx//7, idx % 7].set_ylabel(n)\n",
    "    continue  "
   ]
  },
  {
   "cell_type": "markdown",
   "metadata": {},
   "source": [
    "Find:\n"
   ]
  },
  {
   "cell_type": "markdown",
   "metadata": {},
   "source": [
    "#### 2-1-4 YearBuilt"
   ]
  },
  {
   "cell_type": "code",
   "execution_count": null,
   "metadata": {},
   "outputs": [],
   "source": [
    "plt.figure(figsize=(15,6))\n",
    "fig = sns.boxplot(x=\"YearBuilt\", y=\"SalePrice\", data=train)\n",
    "fig.axis(ymin=0, ymax=800000)\n",
    "plt.xticks(rotation=90)\n",
    "plt.show()\n",
    "\n",
    "plt.figure(figsize=(15,6))\n",
    "ax2 = plt.subplot(1,2,1)\n",
    "ax2.scatter(x = train['YearBuilt'], y = train['YearRemodAdd'], alpha = 0.5)\n",
    "plt.xlabel('YearBuilt')\n",
    "plt.ylabel('YearRemodAdd')\n",
    "ax3 = plt.subplot(1,2,2)\n",
    "ax3.scatter(x = train['YearBuilt'], y = train['YrSold'], alpha = 0.5)\n",
    "plt.xlabel('YearBuilt')\n",
    "plt.ylabel('Yearsold')\n",
    "plt.show()\n",
    "\n",
    "plt.figure(figsize=(15,6))\n",
    "ax4 = plt.subplot2grid((2,2), (0,0), colspan = 2)\n",
    "ax4.scatter(x = train['YearBuilt'], y = train['OverallQual'], alpha = 0.5)\n",
    "plt.xlabel('YearBuilt')\n",
    "plt.ylabel('OverallQual')\n",
    "ax5 = plt.subplot2grid((2,2), (1,0), colspan = 2)\n",
    "sns.countplot(x = \"MoSold\", data=train, ax = ax5)\n",
    "plt.show()"
   ]
  },
  {
   "cell_type": "markdown",
   "metadata": {},
   "source": [
    "Find\n",
    "\n",
    "1. 1950년대 이후로 지어진 집부터는 대체로 최근에 지어진 집의 가격이 높음을 알 수 있음.\n",
    "2. 아직 리모델링이 되지 않은 집은 지어진 년도와 같은 년도로 기록되어 있음.\n",
    "3. 리모델링은 1950년도 이후에 시행되었으며 오래된 집들은 대부분 1950년도에 리모델링 되었다고 기록되어 있음.\n",
    "4. 매매년도는 2006년부터 2010년까지의 기록으로 되어있으며, 매매가 가장 많았던 년도는 2009년임.\n",
    "5. OverallQual이 8-10인 집은 대체로 1980년도 이후에 지어진 집임.\n",
    "6. 날이 따뜻한 5, 6, 7월에 가장 매매가 활발하게 이루어짐."
   ]
  },
  {
   "cell_type": "markdown",
   "metadata": {},
   "source": [
    "#### 2-1-5 Fireplaces & FireplaceQu"
   ]
  },
  {
   "cell_type": "code",
   "execution_count": null,
   "metadata": {},
   "outputs": [],
   "source": [
    "plt.figure(figsize=(15,10))\n",
    "ax1 = plt.subplot2grid((2,2), (0,0), colspan = 2)\n",
    "sns.stripplot(x = train['Fireplaces'], y = train['SalePrice'], alpha = 0.5, jitter = True, ax=ax1)\n",
    "\n",
    "ax2 = plt.subplot2grid((2,2), (1,0))\n",
    "sns.countplot(x = \"FireplaceQu\", data=train, ax = ax2, order = train[\"FireplaceQu\"].value_counts().index)\n",
    "\n",
    "ax3 = plt.subplot2grid((2,2), (1,1))\n",
    "sns.boxplot(x = 'FireplaceQu', y = 'OverallQual', data = train, ax=ax3)\n",
    "plt.show()\n",
    "\n",
    "plt.figure(figsize=(15,10))\n",
    "ax4 = plt.subplot(2,1,1)\n",
    "sns.stripplot(x='FireplaceQu', y='SalePrice', hue='Fireplaces', data=train, jitter=True, alpha=0.6, ax=ax4)\n",
    "\n",
    "ax5 = plt.subplot(2,1,2)\n",
    "ax5.scatter(x = train['Fireplaces'], y = train['GrLivArea'], alpha = 0.5)\n",
    "plt.xlabel('Fireplaces')\n",
    "plt.ylabel('GrLivArea')\n",
    "plt.show()\n"
   ]
  },
  {
   "cell_type": "markdown",
   "metadata": {},
   "source": [
    "Find\n",
    "\n",
    "1. FirePlaces가 0개인 집과 1개인 집의 가격 차이가 있음을 볼 수 있음.\n",
    "2. FireplaceQu와 OverallQual은 밀접한 관계가 있음.\n",
    "3. FireplaceQu는 SalePrice에 많은 영향을 미친다고 볼 수는 없음.\n",
    "4. 같은 GrLivArea임에도 Fireplaces의 갯수는 차이가 있음."
   ]
  },
  {
   "cell_type": "markdown",
   "metadata": {},
   "source": [
    "#### 2-1-6 BsmtBath\n",
    "\n",
    "BsmtFullBath : 지하실 가득한 욕실  \n",
    "BsmtHalfBath : 지하 욕실 반 화장실\n",
    "\n",
    "BsmtQual', 'BsmtCond', 'BsmtExposure', 'BsmtFinType1', 'BsmtFinSF1',\n",
    "       'BsmtFinType2', 'BsmtFinSF2', 'BsmtUnfSF', 'TotalBsmtSF',"
   ]
  },
  {
   "cell_type": "code",
   "execution_count": null,
   "metadata": {},
   "outputs": [],
   "source": [
    "plt.figure(figsize=(15,6))\n",
    "sns.stripplot(x = \"BsmtQual\", y = \"SalePrice\", data=train, jitter=True)\n",
    "plt.show()"
   ]
  },
  {
   "cell_type": "code",
   "execution_count": null,
   "metadata": {},
   "outputs": [],
   "source": [
    "plt.figure(figsize=(15,6))\n",
    "\n",
    "ax1 = plt.subplot(1,2,1)\n",
    "for BSMT in range(0,5):\n",
    "    index = train.BsmtFullBath == BSMT\n",
    "    ax1.scatter(x = train.BsmtFullBath.loc[index], y = train.SalePrice.loc[index], data=train, label=BSMT, alpha='0.5')\n",
    "\n",
    "ax1.legend()\n",
    "ax1.set_title('BsmtFullBath - SalePrice')\n",
    "\n",
    "ax2 = plt.subplot(1,2,2)\n",
    "sns.stripplot(x = \"BsmtHalfBath\", y = \"SalePrice\", data=train,ax=ax2, jitter=True)\n",
    "ax2.set_title('BsmtHalfBath - SalePrice')\n",
    "ax2.legend()"
   ]
  },
  {
   "cell_type": "markdown",
   "metadata": {},
   "source": [
    "Find:\n",
    "\n",
    "BsmtFUllBATH의 경우에는 최소값에 영향을 주고 & HalfBath 의 경우에는 salprice에 큰 영향을 주지 않는 것으로 보인다."
   ]
  },
  {
   "cell_type": "markdown",
   "metadata": {},
   "source": [
    "#### 2-1-7 TotRm and Bedroom"
   ]
  },
  {
   "cell_type": "code",
   "execution_count": null,
   "metadata": {},
   "outputs": [],
   "source": [
    "plt.figure(figsize=(15,10))\n",
    "ax1 = plt.subplot(2,1,1)\n",
    "sns.stripplot(x='TotRmsAbvGrd', y='SalePrice', hue='TotRmsAbvGrd', data=train, jitter=True, alpha=0.6, ax=ax1)\n",
    "\n",
    "ax2 = plt.subplot2grid((2,2), (1,0))\n",
    "sns.countplot(x = \"TotRmsAbvGrd\", data=train , ax = ax2, order = train[\"TotRmsAbvGrd\"].value_counts().index)\n",
    "\n",
    "ax3 = plt.subplot2grid((2,2), (1,1))\n",
    "sns.boxplot(x = 'TotRmsAbvGrd', y = 'OverallQual', data = train, ax=ax3)\n",
    "plt.show()\n",
    "\n",
    "grid = sns.jointplot(x = \"TotRmsAbvGrd\", y = \"SalePrice\", data=train, kind=\"reg\", size = 10)\n"
   ]
  },
  {
   "cell_type": "code",
   "execution_count": null,
   "metadata": {},
   "outputs": [],
   "source": [
    "plt.figure(figsize=(15,6))\n",
    "\n",
    "ax1 = plt.subplot(1,2,1)\n",
    "for TotRmsAbvGrd in range(0,5):\n",
    "    index = train.TotRmsAbvGrd == TotRmsAbvGrd\n",
    "    sns.stripplot(x = train.BsmtFullBath, y = train.SalePrice, data=train,ax = ax1, label=TotRmsAbvGrd, alpha='0.5')\n",
    "\n",
    "ax1.legend()\n",
    "ax1.set_title('TotRmsAbvGrd - SalePrice')\n",
    "\n",
    "ax2 = plt.subplot(1,2,2)\n",
    "sns.stripplot(x = \"BedroomAbvGr\", y = \"SalePrice\", data=train,ax=ax2, jitter=True)\n",
    "ax2.set_title('BedroomAbvGr - SalePrice')\n",
    "ax2.legend()\n",
    "\n",
    "grid = sns.jointplot(x = \"BedroomAbvGr\", y = \"SalePrice\", data=train, kind=\"reg\", size = 10)\n",
    "\n",
    "\n",
    "plt.show()"
   ]
  },
  {
   "cell_type": "markdown",
   "metadata": {},
   "source": [
    "Find: \n",
    "\n",
    "확실히 TotRmsAbvGrd 는 연관관계가 있는것으로 보임"
   ]
  },
  {
   "cell_type": "code",
   "execution_count": null,
   "metadata": {},
   "outputs": [],
   "source": [
    "stats.probplot(train[\"TotRmsAbvGrd\"], plot=plt)\n",
    "stats.probplot(train[\"BedroomAbvGr\"], plot=plt)"
   ]
  },
  {
   "cell_type": "code",
   "execution_count": null,
   "metadata": {},
   "outputs": [],
   "source": [
    "train[['TotRmsAbvGrd', 'BedroomAbvGr']].hist(bins=80, figsize=(10,5))"
   ]
  },
  {
   "cell_type": "markdown",
   "metadata": {},
   "source": [
    "Tot : 길게 하나 하고, 어떤 방이 여기에 포함되어있는지 확인필요"
   ]
  },
  {
   "cell_type": "markdown",
   "metadata": {},
   "source": [
    "이런 데이터의 경우에는 확실히 한단계 데이터 조치가 필요할것으로 보임\n",
    "이런 경우는 어떻게 해야하지?"
   ]
  },
  {
   "cell_type": "markdown",
   "metadata": {},
   "source": [
    "Full Bath의 경우에는 영향이 있으나 HalfBath의 경우에는 영향이 미미한것으로 확인할 수 있음"
   ]
  },
  {
   "cell_type": "markdown",
   "metadata": {},
   "source": [
    "### 2-2 Missing Data 처리"
   ]
  },
  {
   "cell_type": "markdown",
   "metadata": {},
   "source": [
    "3가지 정도의 가설\n",
    "\n",
    "1. 미싱데이터 80% 이상의 데이터들을 제거했을때\n",
    "2. 비어있는 값들의 처리를 0 or mean 값으로 한경우\n",
    "3. one-hot encoding 했을때"
   ]
  },
  {
   "cell_type": "code",
   "execution_count": null,
   "metadata": {},
   "outputs": [],
   "source": [
    "ntrain = train.shape[0]\n",
    "ntest = test.shape[0]\n",
    "\n",
    "all_data = pd.concat((train, test)).reset_index(drop=True)\n",
    "print(\"All data size is {}\".format(all_data.shape))"
   ]
  },
  {
   "cell_type": "code",
   "execution_count": null,
   "metadata": {},
   "outputs": [],
   "source": [
    "total = all_data.isnull().sum().sort_values(ascending=False)[:30]\n",
    "ratio = ((all_data.isnull().sum()/len(all_data))*100).sort_values(ascending=False)[:30]\n",
    "missing_data = pd.concat([total, ratio], axis=1, keys=['Total', 'Ratio'])\n",
    "\n",
    "\n",
    "f, ax = plt.subplots(figsize=(15,7))\n",
    "plt.xticks(rotation='45')\n",
    "sns.barplot(x=ratio.index, y=ratio)\n",
    "plt.xlabel('Features', fontsize=15)\n",
    "plt.ylabel('Percent of missing valurs', fontsize=15)\n",
    "plt.title('Percent missing data by features', fontsize=15)"
   ]
  },
  {
   "cell_type": "code",
   "execution_count": null,
   "metadata": {
    "collapsed": true
   },
   "outputs": [],
   "source": [
    "all_data[\"PoolQC\"] = all_data[\"PoolQC\"].fillna(\"None\")\n",
    "all_data[\"MiscFeature\"] = all_data[\"MiscFeature\"].fillna(\"None\")\n",
    "all_data[\"Alley\"] = all_data[\"Alley\"].fillna(\"None\")\n",
    "all_data[\"Fence\"] = all_data[\"Fence\"].fillna(\"None\")\n",
    "all_data[\"FireplaceQu\"] = all_data[\"FireplaceQu\"].fillna(\"None\")"
   ]
  },
  {
   "cell_type": "markdown",
   "metadata": {},
   "source": [
    "방법 1"
   ]
  },
  {
   "cell_type": "code",
   "execution_count": null,
   "metadata": {
    "collapsed": true
   },
   "outputs": [],
   "source": [
    "feats=[\"MasVnrArea\", \"BsmtUnfSF\", \"TotalBsmtSF\", \"GarageCars\", \"BsmtFinSF2\", \"BsmtFinSF1\", \"GarageArea\"]\n",
    "for feat in feats:\n",
    "    all_data[feat].fillna(0, inplace=True)"
   ]
  },
  {
   "cell_type": "code",
   "execution_count": null,
   "metadata": {
    "collapsed": true
   },
   "outputs": [],
   "source": [
    "# fill in with None\n",
    "feats1 = [\"PoolQC\" , \"MiscFeature\", \"Alley\", \"Fence\", \"FireplaceQu\", \"GarageQual\", \"GarageCond\", \"GarageFinish\", \"GarageYrBlt\", \"GarageType\", \"BsmtExposure\", \"BsmtCond\", \"BsmtQual\", \"BsmtFinType2\", \"BsmtFinType1\", \"MasVnrType\"]\n",
    "for feat in feats1:\n",
    "    all_data[feat].fillna(\"None\", inplace=True)"
   ]
  },
  {
   "cell_type": "code",
   "execution_count": null,
   "metadata": {
    "collapsed": true
   },
   "outputs": [],
   "source": [
    "# fill in with mode\n",
    "feats2 = [\"MSZoning\", \"BsmtFullBath\", \"BsmtHalfBath\", \"Utilities\", \"Functional\", \"Electrical\", \"KitchenQual\", \"SaleType\",\"Exterior1st\", \"Exterior2nd\"]\n",
    "for feat in feats2:\n",
    "    all_data[feat].fillna(all_data[feat].mode()[0], inplace=True)"
   ]
  },
  {
   "cell_type": "markdown",
   "metadata": {},
   "source": [
    "방법 2"
   ]
  },
  {
   "cell_type": "code",
   "execution_count": null,
   "metadata": {
    "collapsed": true
   },
   "outputs": [],
   "source": [
    "for col in ('GarageType', 'GarageFinish', 'GarageQual', 'GarageCond'):\n",
    "    all_data[col] = all_data[col].fillna('None')\n",
    "\n",
    "for col in ('GarageYrBlt', 'GarageArea', 'GarageCars'):\n",
    "    all_data[col] = all_data[col].fillna(0)\n",
    "\n",
    "for col in ('BsmtFinSF1', 'BsmtFinSF2', 'BsmtUnfSF','TotalBsmtSF', 'BsmtFullBath', 'BsmtHalfBath'):\n",
    "    all_data[col] = all_data[col].fillna(0)\n",
    "\n",
    "for col in ('BsmtQual', 'BsmtCond', 'BsmtExposure', 'BsmtFinType1', 'BsmtFinType2'):\n",
    "    all_data[col] = all_data[col].fillna('None')\n",
    "\n",
    "all_data[\"MasVnrType\"] = all_data[\"MasVnrType\"].fillna(\"None\")\n",
    "all_data[\"MasVnrArea\"] = all_data[\"MasVnrArea\"].fillna(0)\n",
    "\n",
    "all_data['MSZoning']= all_data[\"MSZoning\"].fillna(all_data['MSZoning'].mode()[0])\n",
    "\n",
    "all_data['Utilities'] = all_data['Utilities'].fillna(all_data['Utilities'].mode()[0])\n",
    "\n",
    "all_data['Functional']= all_data[\"Functional\"].fillna(\"Typ\")\n",
    "\n",
    "all_data[\"LotFrontage\"] = all_data.groupby(\"Neighborhood\")[\"LotFrontage\"].transform(lambda x: x.fillna(x.median()))\n",
    "all_data[\"Electrical\"] = all_data['Electrical'].fillna(all_data['Electrical'].mode()[0])\n",
    "\n",
    "all_data[\"KitchenQual\"]=all_data[\"KitchenQual\"].fillna(all_data['KitchenQual'].mode()[0])\n",
    "\n",
    "all_data['Exterior1st'] = all_data['Exterior1st'].fillna(all_data['Exterior1st'].mode()[0])\n",
    "all_data['Exterior2nd'] = all_data['Exterior2nd'].fillna(all_data['Exterior2nd'].mode()[0])\n",
    "\n",
    "all_data['SaleType'] = all_data['SaleType'].fillna(all_data['SaleType'].mode()[0])\n",
    "\n",
    "all_data['MSSubClass'] = all_data['MSSubClass'].fillna(\"None\")\n",
    "\n",
    "all_data = all_data.drop(['Id'], axis=1) # Id 제거"
   ]
  },
  {
   "cell_type": "code",
   "execution_count": null,
   "metadata": {
    "collapsed": true
   },
   "outputs": [],
   "source": [
    "train = all_data[:ntrain]\n",
    "test = all_data[ntrain:]\n",
    "y_train = train.SalePrice.values\n",
    "all_data.drop(['SalePrice'], axis=1, inplace=True)"
   ]
  },
  {
   "cell_type": "markdown",
   "metadata": {},
   "source": [
    "### 2-3 아웃라이어 제거"
   ]
  },
  {
   "cell_type": "markdown",
   "metadata": {},
   "source": [
    "##### OLS 를 사용하여 아웃라이어 제거"
   ]
  },
  {
   "cell_type": "code",
   "execution_count": null,
   "metadata": {
    "collapsed": true
   },
   "outputs": [],
   "source": [
    "all_data_dummy = pd.get_dummies(all_data)"
   ]
  },
  {
   "cell_type": "code",
   "execution_count": null,
   "metadata": {
    "collapsed": true
   },
   "outputs": [],
   "source": [
    "all_data_dummy.drop([\"SalePrice\"], axis=1, inplace=True) "
   ]
  },
  {
   "cell_type": "code",
   "execution_count": null,
   "metadata": {
    "collapsed": true
   },
   "outputs": [],
   "source": [
    "x_train_x0 = all_data_dummy[:ntrain]\n",
    "\n",
    "x_train = sm.add_constant(x_train_x0)\n",
    "x_columns = x_train.columns\n",
    "\n",
    "x_train1 = np.array(x_train)\n",
    "y_train1 = np.array(y_train)"
   ]
  },
  {
   "cell_type": "code",
   "execution_count": null,
   "metadata": {},
   "outputs": [],
   "source": [
    "#OLS 모델 사용\n",
    "model = sm.OLS(pd.DataFrame(y_train1, columns=[\"SalePrice\"]),pd.DataFrame(x_train1,columns=x_columns))\n",
    "result = model.fit()\n",
    "print(result.summary())"
   ]
  },
  {
   "cell_type": "code",
   "execution_count": null,
   "metadata": {},
   "outputs": [],
   "source": [
    "#잔차 정규성 확인\n",
    "sp.stats.probplot(result.resid, plot=plt)\n",
    "plt.show()\n",
    "\n",
    "#Chi^2 확인\n",
    "test_chi = sms.omni_normtest(result.resid)\n",
    "for xi in zip(['Chi^2', 'P-value'], test_chi):\n",
    "    print(\"%-12s: %6.3f\" % xi)"
   ]
  },
  {
   "cell_type": "code",
   "execution_count": null,
   "metadata": {
    "collapsed": true
   },
   "outputs": [],
   "source": [
    "# 아웃라이어 제거\n",
    "idx = result.resid_pearson < 2\n",
    "\n",
    "train = train[idx]"
   ]
  },
  {
   "cell_type": "markdown",
   "metadata": {},
   "source": [
    "## 3. 변수선정 "
   ]
  },
  {
   "cell_type": "code",
   "execution_count": null,
   "metadata": {},
   "outputs": [],
   "source": [
    "corrmat = train.corr()\n",
    "\n",
    "f, ax = plt.subplots(figsize = (19,10))\n",
    "sns.heatmap(corrmat, vmax =1, square = True)"
   ]
  },
  {
   "cell_type": "code",
   "execution_count": null,
   "metadata": {
    "collapsed": true
   },
   "outputs": [],
   "source": [
    "cols=['OverallQual', 'GrLivArea', 'GarageCars', 'TotalBsmtSF', 'FullBath', 'SalePrice']"
   ]
  },
  {
   "cell_type": "code",
   "execution_count": null,
   "metadata": {},
   "outputs": [],
   "source": [
    "x_train = train[cols]\n",
    "x_train.tail()"
   ]
  },
  {
   "cell_type": "markdown",
   "metadata": {},
   "source": [
    "## 4. 정규화 & 스케일링"
   ]
  },
  {
   "cell_type": "code",
   "execution_count": null,
   "metadata": {
    "collapsed": true
   },
   "outputs": [],
   "source": [
    "# scaler = StandardScaler()\n",
    "# scaler.fit(x_train)\n",
    "# x_train = scaler.transform(x_train)"
   ]
  },
  {
   "cell_type": "code",
   "execution_count": null,
   "metadata": {
    "collapsed": true
   },
   "outputs": [],
   "source": [
    "# scaler = StandardScaler()\n",
    "# scaler.fit(x_test)\n",
    "# x_test = scaler.transform(x_test)"
   ]
  },
  {
   "cell_type": "code",
   "execution_count": null,
   "metadata": {
    "collapsed": true
   },
   "outputs": [],
   "source": [
    "# y_ltrain = np.log1p(y_train)"
   ]
  },
  {
   "cell_type": "markdown",
   "metadata": {},
   "source": [
    "## 5. 교차 검증 및 모델링"
   ]
  },
  {
   "cell_type": "code",
   "execution_count": null,
   "metadata": {
    "collapsed": true
   },
   "outputs": [],
   "source": [
    "# x_train_dummy = pd.get_dummies(x_train)\n",
    "# x_train_0 = sm.add_constant(x_train_dummy)\n",
    "# x_columns = x_train_0.columns\n",
    "\n",
    "# test_dummy = pd.get_dummies(test)\n",
    "# test_0 = sm.add_constant(test_dummy)\n",
    "# t_columns = test_0.columns\n",
    "\n",
    "\n",
    "# x_train_m = np.array(x_train_0)\n",
    "# test_m = np.array(test_0)\n",
    "# y_train_m = np.array(y_train)\n"
   ]
  },
  {
   "cell_type": "code",
   "execution_count": null,
   "metadata": {},
   "outputs": [],
   "source": [
    "train.tail()"
   ]
  },
  {
   "cell_type": "raw",
   "metadata": {
    "collapsed": true
   },
   "source": [
    "#OLS 모델 사용\n",
    "\n",
    "model = sm.OLS.from_formula(\"np.log1p(SalePrice) ~ scale(OverallQual) + scale(np.log1p(GrLivArea)) + scale(GarageCars) + scale(np.log1p(TotalBsmtSF)) + scale(FullBath) \", data = train)"
   ]
  },
  {
   "cell_type": "markdown",
   "metadata": {},
   "source": [
    "## 6. 예측하기"
   ]
  },
  {
   "cell_type": "raw",
   "metadata": {},
   "source": [
    "result = model.fit()\n",
    "print(result.summary())"
   ]
  },
  {
   "cell_type": "raw",
   "metadata": {},
   "source": [
    "rsquared_adj = result.rsquared_adj"
   ]
  },
  {
   "cell_type": "raw",
   "metadata": {
    "scrolled": true
   },
   "source": [
    "predict = np.exp(result.predict(test))\n",
    "predict.tail()"
   ]
  },
  {
   "cell_type": "raw",
   "metadata": {},
   "source": [
    "predict1 = pd.Series(predict)"
   ]
  },
  {
   "cell_type": "raw",
   "metadata": {},
   "source": [
    "submission = pd.read_csv(\"../1_House_Price_Project_X/Submit/sample_submission.csv\")\n",
    "submission.tail()\n",
    "\n",
    "submission[\"SalePrice\"] = predict1.values\n",
    "\n",
    "print(submission.shape)\n",
    "submission.head()"
   ]
  },
  {
   "cell_type": "raw",
   "metadata": {
    "collapsed": true
   },
   "source": [
    "submission.to_csv(\"../1_House_Price_Project_X/Submit/Score_{0:.5f}_submission.csv\".format(rsquared_adj), index=False)"
   ]
  },
  {
   "cell_type": "markdown",
   "metadata": {},
   "source": [
    "score : 0.18836\n",
    "\n",
    "3113 / 4396 = 70.8%"
   ]
  }
 ],
 "metadata": {
  "kernelspec": {
   "display_name": "Python 3",
   "language": "python",
   "name": "python3"
  },
  "language_info": {
   "codemirror_mode": {
    "name": "ipython",
    "version": 3
   },
   "file_extension": ".py",
   "mimetype": "text/x-python",
   "name": "python",
   "nbconvert_exporter": "python",
   "pygments_lexer": "ipython3",
   "version": "3.6.3"
  }
 },
 "nbformat": 4,
 "nbformat_minor": 2
}
