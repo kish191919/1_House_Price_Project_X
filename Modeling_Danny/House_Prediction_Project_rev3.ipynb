{
 "cells": [
  {
   "cell_type": "code",
   "execution_count": null,
   "metadata": {
    "collapsed": true,
    "scrolled": false
   },
   "outputs": [],
   "source": [
    "import pandas as pd\n",
    "import numpy as np\n",
    "import matplotlib.pyplot as plt\n",
    "import seaborn as sns\n",
    "import scipy as sp\n",
    "from scipy import stats\n",
    "import warnings\n",
    "\n",
    "warnings.filterwarnings('ignore')\n",
    "%matplotlib inline"
   ]
  },
  {
   "cell_type": "code",
   "execution_count": null,
   "metadata": {
    "collapsed": true,
    "scrolled": false
   },
   "outputs": [],
   "source": [
    "train = pd.read_csv(\"../1_House_Price_Project_X/train.csv\")\n",
    "test = pd.read_csv(\"../1_House_Price_Project_X/test.csv\")"
   ]
  },
  {
   "cell_type": "markdown",
   "metadata": {},
   "source": [
    "## 1.EDA"
   ]
  },
  {
   "cell_type": "markdown",
   "metadata": {},
   "source": [
    "### 1) Introduction"
   ]
  },
  {
   "cell_type": "code",
   "execution_count": null,
   "metadata": {
    "scrolled": false
   },
   "outputs": [],
   "source": [
    "print(train.shape)\n",
    "print(test.shape)"
   ]
  },
  {
   "cell_type": "code",
   "execution_count": null,
   "metadata": {
    "scrolled": true
   },
   "outputs": [],
   "source": [
    "train.tail()"
   ]
  },
  {
   "cell_type": "code",
   "execution_count": null,
   "metadata": {
    "scrolled": false
   },
   "outputs": [],
   "source": [
    "test.tail()"
   ]
  },
  {
   "cell_type": "code",
   "execution_count": null,
   "metadata": {
    "scrolled": false
   },
   "outputs": [],
   "source": [
    "train.describe()"
   ]
  },
  {
   "cell_type": "code",
   "execution_count": null,
   "metadata": {
    "scrolled": false
   },
   "outputs": [],
   "source": [
    "print(len(train.columns), train.columns)"
   ]
  },
  {
   "cell_type": "code",
   "execution_count": null,
   "metadata": {
    "scrolled": false
   },
   "outputs": [],
   "source": [
    "print(len(test.columns), test.columns)"
   ]
  },
  {
   "cell_type": "code",
   "execution_count": null,
   "metadata": {
    "collapsed": true,
    "scrolled": false
   },
   "outputs": [],
   "source": [
    "numberic_features = []\n",
    "categoric_features = []\n",
    "for f in train.columns:\n",
    "    if train.dtypes[f] != 'object':\n",
    "        numberic_features.append(f)\n",
    "    else:\n",
    "        categoric_features.append(f)"
   ]
  },
  {
   "cell_type": "code",
   "execution_count": null,
   "metadata": {
    "scrolled": false
   },
   "outputs": [],
   "source": [
    "print(len(numberic_features), numberic_features)\n",
    "print(len(categoric_features), categoric_features)"
   ]
  },
  {
   "cell_type": "code",
   "execution_count": null,
   "metadata": {
    "scrolled": false
   },
   "outputs": [],
   "source": [
    "numberic_features.remove(\"Id\")\n",
    "numberic_features.remove(\"SalePrice\")\n",
    "len(numberic_features), numberic_features"
   ]
  },
  {
   "cell_type": "code",
   "execution_count": null,
   "metadata": {
    "scrolled": false
   },
   "outputs": [],
   "source": [
    "plt.figure(figsize=(17,4))\n",
    "\n",
    "plt.subplot(131)\n",
    "train[\"SalePrice\"].describe()\n",
    "sns.distplot(train[\"SalePrice\"])\n",
    "\n",
    "plt.subplot(132)\n",
    "stats.probplot(train[\"SalePrice\"], plot=plt)\n",
    "\n",
    "plt.subplot(133)\n",
    "sns.boxplot(train[\"SalePrice\"])\n",
    "plt.tight_layout()\n",
    "plt.show()"
   ]
  },
  {
   "cell_type": "markdown",
   "metadata": {},
   "source": [
    "### 2) 변수들 간의 관계"
   ]
  },
  {
   "cell_type": "code",
   "execution_count": null,
   "metadata": {
    "scrolled": false
   },
   "outputs": [],
   "source": [
    "gl = sns.jointplot(x = \"GrLivArea\", y = \"SalePrice\", data=train, kind=\"reg\")\n",
    "gl.fig.set_size_inches(15,5)\n",
    "plt.show()"
   ]
  },
  {
   "cell_type": "code",
   "execution_count": null,
   "metadata": {
    "collapsed": true,
    "scrolled": false
   },
   "outputs": [],
   "source": [
    "df_train = train.copy()\n",
    "df_train[\"2ndFloor\"] = \"2ndFloor\"\n",
    "df_train[\"2ndFloor\"].loc[df_train[\"2ndFlrSF\"]==0] = \"No 2ndFloor\"\n",
    "df_train[\"Basement\"] = \"Basement\"\n",
    "df_train[\"Basement\"].loc[df_train[\"TotalBsmtSF\"]==0] = \"No Basement\""
   ]
  },
  {
   "cell_type": "code",
   "execution_count": null,
   "metadata": {
    "scrolled": false
   },
   "outputs": [],
   "source": [
    "#x축 간격조정 필요\n",
    "\n",
    "plt.figure(figsize=(15,6))\n",
    "\n",
    "plt.subplot(121)\n",
    "g = sns.stripplot(x = 'GrLivArea', y = 'SalePrice', hue=\"2ndFloor\", data = df_train, alpha = 0.5)\n",
    "g.set_xlabel('GrLivArea')\n",
    "g.set_ylabel('SalePrice')\n",
    "g.set_title('GrLivArea & 2ndFloor - SalePrice')\n",
    "# g.set_xticklabels(rotation=45)\n",
    "\n",
    "plt.subplot(122)\n",
    "b = sns.stripplot(x = 'GrLivArea', y = 'SalePrice', hue=\"Basement\", data = df_train, alpha = 0.5)\n",
    "b.set_xlabel('GrLivArea')\n",
    "b.set_ylabel('SalePrice')\n",
    "b.set_title('GrLivArea & Basement - SalePrice')\n",
    "# b.set_xticklabels(rotation=45)\n",
    "\n",
    "plt.show()"
   ]
  },
  {
   "cell_type": "code",
   "execution_count": null,
   "metadata": {},
   "outputs": [],
   "source": [
    "GrLivArea_outlier = detect_outliers(train, \"GrLivArea\")\n",
    "GrLivArea_outlier"
   ]
  },
  {
   "cell_type": "markdown",
   "metadata": {},
   "source": [
    "Find : 1. Grliv 넓이가 중간 아래부분까지는 같은 넓이의 집은 2층보다 1층집의 값 더 비싼것을 알수 있었다\n",
    "       2. 베이스먼트가 없는집은 거의 없으며, 집값에는 영향이 없는것 같다 "
   ]
  },
  {
   "cell_type": "code",
   "execution_count": null,
   "metadata": {
    "scrolled": false
   },
   "outputs": [],
   "source": [
    "plt.figure(figsize=(15,6))\n",
    "\n",
    "ax1 = plt.subplot2grid((2,2), (0,0), colspan = 2)\n",
    "for qual in range(1,10+1):\n",
    "    index = train.OverallQual == qual\n",
    "    ax1.scatter( train.GrLivArea.loc[index], train.SalePrice.loc[index], data=train, label= qual, alpha =0.5)\n",
    "ax1.legend()\n",
    "\n",
    "ax2 = plt.subplot2grid((2,2), (1,0))\n",
    "sns.boxplot(x = \"OverallQual\", y = \"SalePrice\", data=train, ax= ax2)\n",
    "\n",
    "ax3 = plt.subplot2grid((2,2), (1,1))\n",
    "sns.boxplot(x = \"OverallCond\", y = \"SalePrice\", data=train, ax= ax3)\n"
   ]
  },
  {
   "cell_type": "code",
   "execution_count": null,
   "metadata": {},
   "outputs": [],
   "source": [
    "OverallQual_outlier = detect_outliers(train, \"OverallQual\")\n",
    "OverallQual_outlier"
   ]
  },
  {
   "cell_type": "markdown",
   "metadata": {},
   "source": [
    "Find : 1. 품질과 집값은 선형관계를 발견할 수 있으나 overall condition과 집값은 관계가 없는것을 발견할 수 있었음"
   ]
  },
  {
   "cell_type": "code",
   "execution_count": null,
   "metadata": {
    "scrolled": true
   },
   "outputs": [],
   "source": [
    "plt.figure(figsize=(15,6))\n",
    "\n",
    "ax1 = plt.subplot(1,2,1)\n",
    "for car in range(0,5):\n",
    "    index = train.GarageCars == car\n",
    "    ax1.scatter(train.GarageArea.loc[index], train.SalePrice.loc[index], data=train, label= car, alpha =0.5)\n",
    "ax1.legend()\n",
    "\n",
    "\n",
    "ax2 = plt.subplot(1,2,2)\n",
    "ax2.scatter(x = \"GarageCars\", y = \"SalePrice\", data=train)\n",
    "\n",
    "plt.show()"
   ]
  },
  {
   "cell_type": "code",
   "execution_count": null,
   "metadata": {},
   "outputs": [],
   "source": [
    "GarageCars_outlier = detect_outliers(train, \"GarageCars\")\n",
    "GarageCars_outlier"
   ]
  },
  {
   "cell_type": "markdown",
   "metadata": {},
   "source": [
    "### Neighborhood"
   ]
  },
  {
   "cell_type": "code",
   "execution_count": null,
   "metadata": {},
   "outputs": [],
   "source": [
    "Neighborhood = pd.concat([train['Neighborhood'], train[\"SalePrice\"]], axis=1)\n",
    "Neighborbood = Neighborhood.sort_values(\"SalePrice\", ascending=False)\n",
    "Neighborbood\n",
    "# Neighborhood.sort_values(\"Neighborhood\")"
   ]
  },
  {
   "cell_type": "code",
   "execution_count": null,
   "metadata": {
    "scrolled": false
   },
   "outputs": [],
   "source": [
    "plt.figure(figsize = (8, 12))\n",
    "g = sns.factorplot(x = \"Neighborhood\", y=\"SalePrice\", data=Neighborhood, size =8, kind=\"bar\")\n",
    "g.set_xticklabels(rotation=45)\n",
    "g.fig.set_size_inches(15,5)\n",
    "plt.show()"
   ]
  },
  {
   "cell_type": "code",
   "execution_count": null,
   "metadata": {
    "collapsed": true
   },
   "outputs": [],
   "source": [
    "def Gp_Neighborhood(saleprice):\n",
    "    if saleprice > 250000:\n",
    "        return \"first_group\"\n",
    "    elif saleprice > 200000:\n",
    "        return \"second_group\"\n",
    "    elif saleprice > 150000:\n",
    "        return \"third_group\"\n",
    "    else: \n",
    "        return \"fourth_group\""
   ]
  },
  {
   "cell_type": "code",
   "execution_count": null,
   "metadata": {},
   "outputs": [],
   "source": [
    "train[\"Gp_Neighborhood\"] = train[\"SalePrice\"].apply(Gp_Neighborhood)\n",
    "g = sns.factorplot(x=\"Gp_Neighborhood\", y=\"SalePrice\", data=train, kind=\"bar\")\n",
    "g.fig.set_size_inches(15,5)\n",
    "plt.show()"
   ]
  },
  {
   "cell_type": "markdown",
   "metadata": {},
   "source": [
    "### Year"
   ]
  },
  {
   "cell_type": "code",
   "execution_count": null,
   "metadata": {
    "scrolled": false
   },
   "outputs": [],
   "source": [
    "plt.figure(figsize=(15,6))\n",
    "fig = sns.boxplot(x=\"YearBuilt\", y=\"SalePrice\", data=train)\n",
    "fig.axis(ymin=0, ymax=800000)\n",
    "plt.xticks(rotation=90)\n",
    "plt.show()\n",
    "\n",
    "plt.figure(figsize=(15,6))\n",
    "ax2 = plt.subplot(1,2,1)\n",
    "ax2.scatter(x = train['YearBuilt'], y = train['YearRemodAdd'], alpha = 0.5)\n",
    "ax3 = plt.subplot(1,2,2)\n",
    "ax3.scatter(x = train['YearBuilt'], y = train['YrSold'], alpha = 0.5)\n",
    "plt.show()\n",
    "\n",
    "plt.figure(figsize=(15,6))\n",
    "ax4 = plt.subplot2grid((2,2), (0,0), colspan = 2)\n",
    "ax4.scatter(x = train['YearBuilt'], y = train['OverallQual'], alpha = 0.5)\n",
    "ax5 = plt.subplot2grid((2,2), (1,0), colspan = 2)\n",
    "sns.countplot(x = \"MoSold\", data=train, ax = ax5)\n",
    "plt.show()"
   ]
  },
  {
   "cell_type": "markdown",
   "metadata": {},
   "source": [
    "Find\n",
    "\n",
    "1."
   ]
  },
  {
   "cell_type": "markdown",
   "metadata": {},
   "source": [
    "### Fireplace"
   ]
  },
  {
   "cell_type": "code",
   "execution_count": null,
   "metadata": {
    "scrolled": false
   },
   "outputs": [],
   "source": [
    "plt.figure(figsize=(15,10))\n",
    "ax1 = plt.subplot2grid((2,2), (0,0), colspan = 2)\n",
    "sns.stripplot(x = train['Fireplaces'], y = train['SalePrice'], alpha = 0.5, jitter = True, ax=ax1)\n",
    "\n",
    "ax2 = plt.subplot2grid((2,2), (1,0))\n",
    "sns.countplot(x = \"FireplaceQu\", data=train, ax = ax2, order = train[\"FireplaceQu\"].value_counts().index)\n",
    "\n",
    "ax3 = plt.subplot2grid((2,2), (1,1))\n",
    "sns.boxplot(x = 'FireplaceQu', y = 'OverallQual', data = train, ax=ax3)\n",
    "plt.show()\n",
    "\n",
    "plt.figure(figsize=(15,10))\n",
    "ax4 = plt.subplot(2,1,1)\n",
    "sns.stripplot(x='FireplaceQu', y='SalePrice', hue='Fireplaces', data=train, jitter=True, alpha=0.6, ax=ax4)\n",
    "\n",
    "ax5 = plt.subplot(2,1,2)\n",
    "ax5.scatter(x = train['Fireplaces'], y = train['GrLivArea'], alpha = 0.5)\n",
    "plt.show()\n"
   ]
  },
  {
   "cell_type": "markdown",
   "metadata": {},
   "source": [
    "Find\n",
    "\n",
    "1."
   ]
  },
  {
   "cell_type": "markdown",
   "metadata": {},
   "source": [
    "### BsmtBath\n",
    "\n",
    "BsmtFullBath : 지하실 가득한 욕실  \n",
    "BsmtHalfBath : 지하 욕실 반 화장실"
   ]
  },
  {
   "cell_type": "code",
   "execution_count": null,
   "metadata": {},
   "outputs": [],
   "source": [
    "plt.subplot(121)\n",
    "sns.boxplot(x = \"BsmtFullBath\", y = \"SalePrice\", data=train)\n",
    "\n",
    "plt.subplot(122)\n",
    "sns.boxplot(x = \"BsmtHalfBath\", y = \"SalePrice\", data=train)"
   ]
  },
  {
   "cell_type": "code",
   "execution_count": null,
   "metadata": {},
   "outputs": [],
   "source": [
    "test = np.log1p(train.BsmtFullBath)\n",
    "stats.probplot(test, plot=plt)\n",
    "# stats.probplot(train[\"BsmtFullBath\"], plot=plt)\n",
    "# stats.probplot(train[\"BsmtHalfBath\"], plot=plt)"
   ]
  },
  {
   "cell_type": "code",
   "execution_count": null,
   "metadata": {},
   "outputs": [],
   "source": [
    "stats.probplot(train[\"BsmtFullBath\"], plot=plt)"
   ]
  },
  {
   "cell_type": "markdown",
   "metadata": {},
   "source": [
    "Full Bath의 경우에는 영향이 있으나 HalfBath의 경우에는 영향이 미미한것으로 확인할 수 있음"
   ]
  },
  {
   "cell_type": "markdown",
   "metadata": {},
   "source": [
    "### TotRm and Bedroom"
   ]
  },
  {
   "cell_type": "code",
   "execution_count": null,
   "metadata": {},
   "outputs": [],
   "source": [
    "plt.subplot(121)\n",
    "sns.boxplot(x = \"TotRmsAbvGrd\", y = \"SalePrice\", data=train)\n",
    "\n",
    "plt.subplot(122)\n",
    "sns.boxplot(x = \"BedroomAbvGr\", y = \"SalePrice\", data=train)"
   ]
  },
  {
   "cell_type": "markdown",
   "metadata": {},
   "source": [
    "확실히 TotRmsAbvGrd 는 연관관계가 있는것으로 보임"
   ]
  },
  {
   "cell_type": "code",
   "execution_count": null,
   "metadata": {},
   "outputs": [],
   "source": [
    "stats.probplot(train[\"TotRmsAbvGrd\"], plot=plt)\n",
    "stats.probplot(train[\"BedroomAbvGr\"], plot=plt)"
   ]
  },
  {
   "cell_type": "code",
   "execution_count": null,
   "metadata": {},
   "outputs": [],
   "source": [
    "train[['TotRmsAbvGrd', 'BedroomAbvGr']].hist(bins=80, figsize=(10,5))"
   ]
  },
  {
   "cell_type": "markdown",
   "metadata": {},
   "source": [
    "Tot : 길게 하나 하고, 어떤 방이 여기에 포함되어있는지 확인필요"
   ]
  },
  {
   "cell_type": "markdown",
   "metadata": {},
   "source": [
    "이런 데이터의 경우에는 확실히 한단계 데이터 조치가 필요할것으로 보임\n",
    "이런 경우는 어떻게 해야하지?"
   ]
  },
  {
   "cell_type": "markdown",
   "metadata": {},
   "source": [
    "Full Bath의 경우에는 영향이 있으나 HalfBath의 경우에는 영향이 미미한것으로 확인할 수 있음"
   ]
  },
  {
   "cell_type": "markdown",
   "metadata": {},
   "source": [
    "### 아웃라이어제거"
   ]
  },
  {
   "cell_type": "code",
   "execution_count": null,
   "metadata": {
    "collapsed": true,
    "scrolled": false
   },
   "outputs": [],
   "source": [
    "def detect_outliers(data, feature):\n",
    "    outlier_list = []\n",
    "    \n",
    "    Q1 = np.percentile(data[feature], 25)\n",
    "    Q3 = np.percentile(data[feature], 75)\n",
    "    IQR = Q3 - Q1\n",
    "        \n",
    "    outlier_lenth = 1.5 * IQR\n",
    "        \n",
    "    outliers = data[(data[feature] < Q1 - outlier_lenth) | (data[feature] > Q3 + outlier_lenth)].index\n",
    "    \n",
    "    outlier_list.append(outliers)\n",
    "\n",
    "    return outlier_list   #카운트 몇개인지?"
   ]
  },
  {
   "cell_type": "code",
   "execution_count": null,
   "metadata": {
    "scrolled": false
   },
   "outputs": [],
   "source": [
    "out_val = ['SalePrice', 'OverallQual', 'GarageCars', 'GrLivArea']\n",
    "\n",
    "out_ls = []\n",
    "\n",
    "for val in out_val:\n",
    "    ls = detect_outliers(train, val)\n",
    "    out_ls.append(ls)\n",
    "    \n",
    "print(out_ls)"
   ]
  },
  {
   "cell_type": "code",
   "execution_count": null,
   "metadata": {},
   "outputs": [],
   "source": [
    "# SalePrice_outliers = out_ls[0]\n",
    "# OverallQual_outliers = int(out_ls[1])\n",
    "# GarageCars_outliers = out_ls[2]\n",
    "# GrLivArea_outliers = out_ls[3]\n",
    "\n",
    "out_ls_c = set()\n",
    "\n",
    "for i in range(4):\n",
    "    for j in range(len(out_ls[i])):\n",
    "        for k in range(4):\n",
    "            if out_ls[i][j] in out_ls[k]:\n",
    "                out_ls_c.add(out_ls[i][j])\n",
    "            \n",
    "print(out_ls_c)"
   ]
  },
  {
   "cell_type": "markdown",
   "metadata": {},
   "source": [
    "### Encoding"
   ]
  },
  {
   "cell_type": "code",
   "execution_count": null,
   "metadata": {},
   "outputs": [],
   "source": [
    "def encode(frame, feature):\n",
    "    ordering = pd.DataFrame()\n",
    "    ordering['val'] = frame[feature].unique()\n",
    "    ordering.index = ordering.val\n",
    "    ordering['spmean'] = frame[[feature, 'SalePrice']].groupby(feature).mean()['SalePrice']\n",
    "    ordering = ordering.sort_values('spmean')\n",
    "    ordering['ordering'] = range(1, ordering.shape[0]+1)\n",
    "    ordering = ordering['ordering'].to_dict()\n",
    "    \n",
    "    for cat, o in ordering.items():\n",
    "        frame.loc[frame[feature] == cat, feature+'_E'] = o\n",
    "    \n",
    "categoric_encoded = []\n",
    "for q in categoric_features:  \n",
    "    encode(train, q)\n",
    "    categoric_encoded.append(q+'_E')\n",
    "print(categoric_encoded)"
   ]
  },
  {
   "cell_type": "code",
   "execution_count": null,
   "metadata": {
    "scrolled": false
   },
   "outputs": [],
   "source": [
    "corrmat = train.corr()\n",
    "corrmat"
   ]
  },
  {
   "cell_type": "code",
   "execution_count": null,
   "metadata": {
    "scrolled": true
   },
   "outputs": [],
   "source": [
    "import missingno as msno\n",
    "\n",
    "missingValueColumns = train.columns[train.isnull().any()].tolist()\n",
    "msno.heatmap(train[missingValueColumns],figsize=(20,20))"
   ]
  },
  {
   "cell_type": "code",
   "execution_count": null,
   "metadata": {
    "collapsed": true
   },
   "outputs": [],
   "source": [
    "cols = corrmat.nlargest(30, 'SalePrice')['SalePrice'].index\n",
    "cols"
   ]
  },
  {
   "cell_type": "code",
   "execution_count": null,
   "metadata": {
    "scrolled": true
   },
   "outputs": [],
   "source": [
    "f, ax = plt.subplots(figsize = (15,9))\n",
    "sns.heatmap(corrmat, vmax = 1, square=True)"
   ]
  },
  {
   "cell_type": "code",
   "execution_count": null,
   "metadata": {},
   "outputs": [],
   "source": [
    "cols = corrmat.nlargest(20, 'SalePrice')['SalePrice'].index \n",
    "cols"
   ]
  },
  {
   "cell_type": "code",
   "execution_count": null,
   "metadata": {},
   "outputs": [],
   "source": [
    "cm = np.corrcoef(train[cols].values.T)\n",
    "\n",
    "plt.figure(figsize=(20,20))\n",
    "sns.set(font_scale=1.25)\n",
    "hm=sns.heatmap(cm, cbar=True, annot=True, square=True, fmt='.2f',\\\n",
    "              annot_kws={'size':10}, yticklabels=cols.values, xticklabels=cols.values)\n",
    "plt.plot()"
   ]
  },
  {
   "cell_type": "code",
   "execution_count": null,
   "metadata": {
    "scrolled": false
   },
   "outputs": [],
   "source": [
    "for c in cols:\n",
    "    data = pd.concat([train['SalePrice'], train[c]],axis=1)\n",
    "    data.plot.scatter(x=c, y='SalePrice',ylim=(0,800000));"
   ]
  },
  {
   "cell_type": "code",
   "execution_count": null,
   "metadata": {
    "collapsed": true,
    "scrolled": true
   },
   "outputs": [],
   "source": [
    "# all_data[(all_data['GarageCars']==4) & (all_data['SalePrice'] < 300000)]"
   ]
  },
  {
   "cell_type": "code",
   "execution_count": null,
   "metadata": {},
   "outputs": [],
   "source": [
    "#We use the numpy fuction log1p which  applies log(1+x) to all elements of the column\n",
    "train[\"SalePrice\"] = np.log1p(train[\"SalePrice\"])\n",
    "\n",
    "#Check the new distribution \n",
    "sns.distplot(train['SalePrice'] , fit=norm);\n",
    "\n",
    "# Get the fitted parameters used by the function\n",
    "(mu, sigma) = norm.fit(train['SalePrice'])\n",
    "print( '\\n mu = {:.2f} and sigma = {:.2f}\\n'.format(mu, sigma))\n",
    "\n",
    "#Now plot the distribution\n",
    "plt.legend(['Normal dist. ($\\mu=$ {:.2f} and $\\sigma=$ {:.2f} )'.format(mu, sigma)],\n",
    "            loc='best')\n",
    "plt.ylabel('Frequency')\n",
    "plt.title('SalePrice distribution')\n",
    "\n",
    "#Get also the QQ-plot\n",
    "fig = plt.figure()\n",
    "res = stats.probplot(train['SalePrice'], plot=plt)\n",
    "plt.show()"
   ]
  },
  {
   "cell_type": "code",
   "execution_count": null,
   "metadata": {
    "collapsed": true
   },
   "outputs": [],
   "source": [
    "from scipy import stats\n",
    "from scipy.stats import norm, skew\n",
    "\n",
    "skewed_feats = all_data[numeric_feats].apply(lambda x: skew(x.dropna())).sort_values(ascending=False)\n",
    "print(\"\\nSkew in numerical features: \\n\")\n",
    "skewness = pd.DataFrame({'Skew' :skewed_feats})\n",
    "skewness.head(30)"
   ]
  },
  {
   "cell_type": "code",
   "execution_count": null,
   "metadata": {
    "collapsed": true
   },
   "outputs": [],
   "source": [
    "skewness = skewness[abs(skewness) > 0.75]\n",
    "print(\"There are {} skewed numerical features to Box Cox transform\".format(skewness.shape[0]))\n",
    "\n",
    "from scipy.special import boxcox1p\n",
    "skewed_features = skewness.index\n",
    "lam = 0.15\n",
    "for feat in skewed_features:\n",
    "    #all_data[feat] += 1\n",
    "    all_data[feat] = boxcox1p(all_data[feat], lam)\n",
    "    \n",
    "#all_data[skewed_features] = np.log1p(all_data[skewed_features])"
   ]
  },
  {
   "cell_type": "code",
   "execution_count": null,
   "metadata": {
    "collapsed": true
   },
   "outputs": [],
   "source": [
    "all_data = pd.concat((train, test)).reset_index(drop=True)\n",
    "all_data.drop('SalePrice', axis=1, inplace=True)\n",
    "all_data.drop('Id', axis=1, inplace=True)"
   ]
  },
  {
   "cell_type": "code",
   "execution_count": null,
   "metadata": {
    "collapsed": true
   },
   "outputs": [],
   "source": [
    "all_data.shape"
   ]
  },
  {
   "cell_type": "code",
   "execution_count": null,
   "metadata": {
    "collapsed": true
   },
   "outputs": [],
   "source": [
    "all_data.tail()"
   ]
  },
  {
   "cell_type": "code",
   "execution_count": null,
   "metadata": {
    "collapsed": true
   },
   "outputs": [],
   "source": [
    "total = all_data.isnull().sum().sort_values(ascending=False)\n",
    "percent = (all_data.isnull().sum()/all_data.isnull().count()).sort_values(ascending=False)\n",
    "missing_data = pd.concat([total, percent],axis=1,keys=['Total','Percent'])\n",
    "missing_data.head(50)"
   ]
  },
  {
   "cell_type": "code",
   "execution_count": null,
   "metadata": {
    "collapsed": true
   },
   "outputs": [],
   "source": [
    "all_data[\"PoolQC\"] = all_data[\"PoolQC\"].fillna(\"None\")\n",
    "\n",
    "all_data[\"MiscFeature\"] = all_data[\"MiscFeature\"].fillna(\"None\")\n",
    "\n",
    "all_data[\"Alley\"] = all_data[\"Alley\"].fillna(\"None\")\n",
    "\n",
    "all_data[\"Fence\"] = all_data[\"Fence\"].fillna(\"None\")\n",
    "\n",
    "all_data[\"FireplaceQu\"] = all_data[\"FireplaceQu\"].fillna(\"None\")\n",
    "\n",
    "all_data[\"LotFrontage\"] = all_data.groupby(\"Neighborhood\")[\"LotFrontage\"].transform(\n",
    "    lambda x: x.fillna(x.median()))\n",
    "\n",
    "for col in ('GarageType', 'GarageFinish', 'GarageQual', 'GarageCond'):\n",
    "    all_data[col] = all_data[col].fillna('None')\n",
    "\n",
    "for col in ('GarageYrBlt', 'GarageArea', 'GarageCars'):\n",
    "    all_data[col] = all_data[col].fillna(0)\n",
    "    \n",
    "for col in ('BsmtFinSF1', 'BsmtFinSF2', 'BsmtUnfSF','TotalBsmtSF', 'BsmtFullBath', 'BsmtHalfBath'):\n",
    "    all_data[col] = all_data[col].fillna(0)\n",
    "\n",
    "for col in ('BsmtQual', 'BsmtCond', 'BsmtExposure', 'BsmtFinType1', 'BsmtFinType2'):\n",
    "    all_data[col] = all_data[col].fillna('None')\n",
    "\n",
    "all_data[\"MasVnrType\"] = all_data[\"MasVnrType\"].fillna(\"None\")\n",
    "all_data[\"MasVnrArea\"] = all_data[\"MasVnrArea\"].fillna(0)\n",
    "\n",
    "all_data['MSZoning'] = all_data['MSZoning'].fillna(all_data['MSZoning'].mode()[0])\n",
    "\n",
    "all_data = all_data.drop(['Utilities'], axis=1)\n",
    "\n",
    "all_data[\"Functional\"] = all_data[\"Functional\"].fillna(\"Typ\")\n",
    "\n",
    "all_data['Electrical'] = all_data['Electrical'].fillna(all_data['Electrical'].mode()[0])\n",
    "\n",
    "all_data['KitchenQual'] = all_data['KitchenQual'].fillna(all_data['KitchenQual'].mode()[0])\n",
    "\n",
    "all_data['Exterior1st'] = all_data['Exterior1st'].fillna(all_data['Exterior1st'].mode()[0])\n",
    "all_data['Exterior2nd'] = all_data['Exterior2nd'].fillna(all_data['Exterior2nd'].mode()[0])\n",
    "\n",
    "all_data['SaleType'] = all_data['SaleType'].fillna(all_data['SaleType'].mode()[0])\n",
    "\n",
    "all_data['MSSubClass'] = all_data['MSSubClass'].fillna(\"None\")"
   ]
  },
  {
   "cell_type": "code",
   "execution_count": null,
   "metadata": {
    "collapsed": true
   },
   "outputs": [],
   "source": [
    "total = all_data.isnull().sum().sort_values(ascending=False)\n",
    "percent = (all_data.isnull().sum()/all_data.isnull().count()).sort_values(ascending=False)\n",
    "missing_data = pd.concat([total, percent],axis=1,keys=['Total','Percent'])\n",
    "missing_data.head(10)"
   ]
  },
  {
   "cell_type": "code",
   "execution_count": null,
   "metadata": {
    "collapsed": true
   },
   "outputs": [],
   "source": [
    "all_data.shape"
   ]
  },
  {
   "cell_type": "code",
   "execution_count": null,
   "metadata": {
    "collapsed": true
   },
   "outputs": [],
   "source": [
    "X_train = all_data[:train.shape[0]]\n",
    "X_train.shape"
   ]
  },
  {
   "cell_type": "code",
   "execution_count": null,
   "metadata": {
    "collapsed": true
   },
   "outputs": [],
   "source": [
    "X_test = all_data[train.shape[0]:]\n",
    "X_test.shape"
   ]
  },
  {
   "cell_type": "code",
   "execution_count": null,
   "metadata": {
    "collapsed": true
   },
   "outputs": [],
   "source": [
    "y = train.SalePrice\n",
    "y.shape"
   ]
  },
  {
   "cell_type": "code",
   "execution_count": null,
   "metadata": {
    "collapsed": true
   },
   "outputs": [],
   "source": []
  }
 ],
 "metadata": {
  "kernelspec": {
   "display_name": "Python 3",
   "language": "python",
   "name": "python3"
  },
  "language_info": {
   "codemirror_mode": {
    "name": "ipython",
    "version": 3
   },
   "file_extension": ".py",
   "mimetype": "text/x-python",
   "name": "python",
   "nbconvert_exporter": "python",
   "pygments_lexer": "ipython3",
   "version": "3.6.3"
  }
 },
 "nbformat": 4,
 "nbformat_minor": 2
}
